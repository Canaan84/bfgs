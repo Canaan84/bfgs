{
 "cells": [
  {
   "cell_type": "code",
   "execution_count": 6,
   "metadata": {},
   "outputs": [
    {
     "data": {
      "image/png": "[encoded data removed]",
      "text/plain": [
       "<Figure size 432x288 with 2 Axes>"
      ]
     },
     "metadata": {
      "needs_background": "light"
     },
     "output_type": "display_data"
    }
   ],
   "source": [
    "import numpy as np \n",
    "import matplotlib.pyplot as plt \n",
    "\n",
    "def f(x):\n",
    "    '''\n",
    "    FUNCTION TO BE OPTIMISED\n",
    "    '''\n",
    "    d = len(x)\n",
    "    return sum(100*(x[i+1]-x[i]**2)**2 + (x[i]-1)**2 for i in range(d-1))\n",
    "\n",
    "def grad(f,x): \n",
    "    '''\n",
    "    CENTRAL FINITE DIFFERENCE CALCULATION\n",
    "    '''\n",
    "    h = np.cbrt(np.finfo(float).eps)\n",
    "    d = len(x)\n",
    "    nabla = np.zeros(d)\n",
    "    for i in range(d): \n",
    "        x_for = np.copy(x) \n",
    "        x_back = np.copy(x)\n",
    "        x_for[i] += h \n",
    "        x_back[i] -= h \n",
    "        nabla[i] = (f(x_for) - f(x_back))/(2*h) \n",
    "    return nabla \n",
    "\n",
    "def line_search(f,x,p,nabla):\n",
    "    '''\n",
    "    BACKTRACK LINE SEARCH WITH WOLFE CONDITIONS\n",
    "    '''\n",
    "    a = 1\n",
    "    c1 = 1e-4 \n",
    "    c2 = 0.9 \n",
    "    fx = f(x)\n",
    "    x_new = x + a * p \n",
    "    nabla_new = grad(f,x_new)\n",
    "    while f(x_new) >= fx + (c1*a*nabla.T@p) or nabla_new.T@p <= c2*nabla.T@p : \n",
    "        a *= 0.5\n",
    "        x_new = x + a * p \n",
    "        nabla_new = grad(f,x_new)\n",
    "    return a\n",
    "\n",
    "\n",
    "def BFGS(f,x0,max_it=100,plot=False):\n",
    "    '''\n",
    "    DESCRIPTION\n",
    "    BFGS Quasi-Newton Method, implemented as described in Nocedal:\n",
    "    Numerical Optimisation.\n",
    "\n",
    "\n",
    "    INPUTS:\n",
    "    f:      function to be optimised \n",
    "    x0:     intial guess\n",
    "    max_it: maximum iterations \n",
    "    plot:   if the problem is 2 dimensional, returns \n",
    "            a trajectory plot of the optimisation scheme.\n",
    "\n",
    "    OUTPUTS: \n",
    "    x:      the optimal solution of the function f \n",
    "\n",
    "    '''\n",
    "    d = len(x0) # dimension of problem \n",
    "    nabla = grad(f,x0) # initial gradient \n",
    "    H = np.eye(d) # initial hessian\n",
    "    x = x0[:]\n",
    "    it = 2 \n",
    "    if plot == True: \n",
    "        if d == 2: \n",
    "            x_store =  np.zeros((1,2)) # storing x values \n",
    "            x_store[0,:] = x \n",
    "        else: \n",
    "            print('Too many dimensions to produce trajectory plot!')\n",
    "            plot = False\n",
    "\n",
    "    while np.linalg.norm(nabla) > 1e-5: # while gradient is positive\n",
    "        if it > max_it: \n",
    "            print('Maximum iterations reached!')\n",
    "            break\n",
    "        it += 1\n",
    "        p = -H@nabla # search direction (Newton Method)\n",
    "        a = line_search(f,x,p,nabla) # line search \n",
    "        s = a * p \n",
    "        x_new = x + a * p \n",
    "        nabla_new = grad(f,x_new)\n",
    "        y = nabla_new - nabla \n",
    "        y = np.array([y])\n",
    "        s = np.array([s])\n",
    "        y = np.reshape(y,(d,1))\n",
    "        s = np.reshape(s,(d,1))\n",
    "        r = 1/(y.T@s)\n",
    "        li = (np.eye(d)-(r*((s@(y.T)))))\n",
    "        ri = (np.eye(d)-(r*((y@(s.T)))))\n",
    "        hess_inter = li@H@ri\n",
    "        H = hess_inter + (r*((s@(s.T)))) # BFGS Update\n",
    "        nabla = nabla_new[:] \n",
    "        x = x_new[:]\n",
    "        if plot == True:\n",
    "            x_store = np.append(x_store,[x],axis=0) # storing x\n",
    "    if plot == True:\n",
    "        x1 = np.linspace(min(x_store[:,0]-0.5),max(x_store[:,0]+0.5),30)\n",
    "        x2 = np.linspace(min(x_store[:,1]-0.5),max(x_store[:,1]+0.5),30)\n",
    "        X1,X2 = np.meshgrid(x1,x2)\n",
    "        Z = f([X1,X2])\n",
    "        plt.figure()\n",
    "        plt.title('OPTIMAL AT: '+str(x_store[-1,:])+'\\n IN '+str(len(x_store))+' ITERATIONS')\n",
    "        plt.contourf(X1,X2,Z,30,cmap='jet')\n",
    "        plt.colorbar()\n",
    "        plt.plot(x_store[:,0],x_store[:,1],c='w')\n",
    "        plt.xlabel('$x_1$'); plt.ylabel('$x_2$')\n",
    "        plt.show()\n",
    "    return x\n",
    "\n",
    "\n",
    "x_opt = BFGS(f,[-1.2,1],100,plot=True)\n",
    "\n",
    "\n",
    "\n",
    "\n"
   ]
  },
  {
   "cell_type": "code",
   "execution_count": 5,
   "metadata": {},
   "outputs": [],
   "source": [
    "def F(x):\n",
    "    \n",
    "    return -x[0]**4 - x[1]**2 + x[2]\n",
    "    "
   ]
  },
  {
   "cell_type": "code",
   "execution_count": 34,
   "metadata": {},
   "outputs": [],
   "source": [
    "from scipy.optimize import minimize, basinhopping\n",
    "\n",
    "x0 = [0, 0, 0]\n",
    "minimizer_kwargs = {\"method\": \"BFGS\"}\n",
    "ret = basinhopping(F, x0, minimizer_kwargs=minimizer_kwargs,\n",
    "                   niter=200)"
   ]
  },
  {
   "cell_type": "code",
   "execution_count": 35,
   "metadata": {},
   "outputs": [
    {
     "data": {
      "text/plain": [
       "                        fun: -1.0684506829021082e+22\n",
       " lowest_optimization_result:       fun: -1.0684506829021082e+22\n",
       " hess_inv: array([[-8.16524132e-13,  0.00000000e+00,  0.00000000e+00],\n",
       "       [ 0.00000000e+00,  1.00000000e+00,  0.00000000e+00],\n",
       "       [ 0.00000000e+00,  0.00000000e+00,  1.00000000e+00]])\n",
       "      jac: array([ 1.32856189e+17,  0.00000000e+00, -0.00000000e+00])\n",
       "  message: 'Desired error not necessarily achieved due to precision loss.'\n",
       "     nfev: 460\n",
       "      nit: 1\n",
       "     njev: 112\n",
       "   status: 2\n",
       "  success: False\n",
       "        x: array([ -321505.6568656 , 12318192.29618872, -2109510.03595912])\n",
       "                    message: ['requested number of basinhopping iterations completed successfully']\n",
       "      minimization_failures: 201\n",
       "                       nfev: 92948\n",
       "                        nit: 200\n",
       "                       njev: 22634\n",
       "                          x: array([ -321505.6568656 , 12318192.29618872, -2109510.03595912])"
      ]
     },
     "execution_count": 35,
     "metadata": {},
     "output_type": "execute_result"
    }
   ],
   "source": [
    "ret"
   ]
  },
  {
   "cell_type": "code",
   "execution_count": 36,
   "metadata": {},
   "outputs": [
    {
     "data": {
      "text/plain": [
       "                        fun: -1.8680681172219401e+21\n",
       " lowest_optimization_result:       fun: -1.8680681172219401e+21\n",
       " hess_inv: array([[-1.95965792e-12,  0.00000000e+00,  0.00000000e+00],\n",
       "       [ 0.00000000e+00,  1.00000000e+00,  0.00000000e+00],\n",
       "       [ 0.00000000e+00,  0.00000000e+00,  1.00000000e+00]])\n",
       "      jac: array([-3.59408361e+16,  0.00000000e+00,  0.00000000e+00])\n",
       "  message: 'Desired error not necessarily achieved due to precision loss.'\n",
       "     nfev: 460\n",
       "      nit: 1\n",
       "     njev: 112\n",
       "   status: 2\n",
       "  success: False\n",
       "        x: array([2.07896978e+05, 5.08694544e+01, 4.67023082e+01])\n",
       "                    message: ['requested number of basinhopping iterations completed successfully']\n",
       "      minimization_failures: 201\n",
       "                       nfev: 92460\n",
       "                        nit: 200\n",
       "                       njev: 22512\n",
       "                          x: array([2.07896978e+05, 5.08694544e+01, 4.67023082e+01])"
      ]
     },
     "execution_count": 36,
     "metadata": {},
     "output_type": "execute_result"
    }
   ],
   "source": [
    "basinhopping(F, [20, 50, 50], minimizer_kwargs=minimizer_kwargs,\n",
    "                   niter=200)"
   ]
  },
  {
   "cell_type": "code",
   "execution_count": 23,
   "metadata": {},
   "outputs": [
    {
     "data": {
      "text/plain": [
       "-1175424.594128425"
      ]
     },
     "execution_count": 23,
     "metadata": {},
     "output_type": "execute_result"
    }
   ],
   "source": [
    "minimize(F, [0, 50, 50], method='BFGS').fun"
   ]
  },
  {
   "cell_type": "code",
   "execution_count": null,
   "metadata": {},
   "outputs": [],
   "source": [
    "minimize(F, [0, 0, 0], method='BFGS').x"
   ]
  }
 ],
 "metadata": {
  "kernelspec": {
   "display_name": "Python 3",
   "language": "python",
   "name": "python3"
  },
  "language_info": {
   "codemirror_mode": {
    "name": "ipython",
    "version": 3
   },
   "file_extension": ".py",
   "mimetype": "text/x-python",
   "name": "python",
   "nbconvert_exporter": "python",
   "pygments_lexer": "ipython3",
   "version": "3.8.3"
  }
 },
 "nbformat": 4,
 "nbformat_minor": 4
}
